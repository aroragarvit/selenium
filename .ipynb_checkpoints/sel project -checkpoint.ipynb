{
 "cells": [
  {
   "cell_type": "code",
   "execution_count": 4,
   "metadata": {},
   "outputs": [
    {
     "ename": "ElementNotInteractableException",
     "evalue": "Message: element not interactable\n  (Session info: chrome=89.0.4389.90)\n",
     "output_type": "error",
     "traceback": [
      "\u001b[1;31m---------------------------------------------------------------------------\u001b[0m",
      "\u001b[1;31mElementNotInteractableException\u001b[0m           Traceback (most recent call last)",
      "\u001b[1;32m<ipython-input-4-adfb288254b5>\u001b[0m in \u001b[0;36m<module>\u001b[1;34m\u001b[0m\n\u001b[0;32m     50\u001b[0m \u001b[1;33m\u001b[0m\u001b[0m\n\u001b[0;32m     51\u001b[0m \u001b[1;32melif\u001b[0m \u001b[0mpresent_day\u001b[0m\u001b[1;33m==\u001b[0m\u001b[1;36m1\u001b[0m\u001b[1;33m:\u001b[0m\u001b[1;33m\u001b[0m\u001b[1;33m\u001b[0m\u001b[0m\n\u001b[1;32m---> 52\u001b[1;33m       \u001b[0mchosing_subjects\u001b[0m\u001b[1;33m(\u001b[0m\u001b[0mtuesday\u001b[0m\u001b[1;33m)\u001b[0m\u001b[1;33m\u001b[0m\u001b[1;33m\u001b[0m\u001b[0m\n\u001b[0m\u001b[0;32m     53\u001b[0m \u001b[1;33m\u001b[0m\u001b[0m\n\u001b[0;32m     54\u001b[0m \u001b[1;32melif\u001b[0m \u001b[0mpresent_day\u001b[0m\u001b[1;33m==\u001b[0m\u001b[1;36m2\u001b[0m\u001b[1;33m:\u001b[0m\u001b[1;33m\u001b[0m\u001b[1;33m\u001b[0m\u001b[0m\n",
      "\u001b[1;32m<ipython-input-4-adfb288254b5>\u001b[0m in \u001b[0;36mchosing_subjects\u001b[1;34m(a)\u001b[0m\n\u001b[0;32m     33\u001b[0m         \u001b[0mbot\u001b[0m\u001b[1;33m.\u001b[0m\u001b[0mget\u001b[0m\u001b[1;33m(\u001b[0m\u001b[0mneed\u001b[0m\u001b[1;33m)\u001b[0m\u001b[1;33m\u001b[0m\u001b[1;33m\u001b[0m\u001b[0m\n\u001b[0;32m     34\u001b[0m         \u001b[0mtime\u001b[0m\u001b[1;33m.\u001b[0m\u001b[0msleep\u001b[0m\u001b[1;33m(\u001b[0m\u001b[1;36m5\u001b[0m\u001b[1;33m)\u001b[0m\u001b[1;33m\u001b[0m\u001b[1;33m\u001b[0m\u001b[0m\n\u001b[1;32m---> 35\u001b[1;33m         \u001b[0mbot\u001b[0m\u001b[1;33m.\u001b[0m\u001b[0mfind_element_by_xpath\u001b[0m\u001b[1;33m(\u001b[0m\u001b[1;34m'//*[@id=\"sessions-list-dropdown\"]/span'\u001b[0m\u001b[1;33m)\u001b[0m\u001b[1;33m.\u001b[0m\u001b[0mclick\u001b[0m\u001b[1;33m(\u001b[0m\u001b[1;33m)\u001b[0m \u001b[1;31m# to click on join session\u001b[0m\u001b[1;33m\u001b[0m\u001b[1;33m\u001b[0m\u001b[0m\n\u001b[0m\u001b[0;32m     36\u001b[0m         \u001b[0mtime\u001b[0m\u001b[1;33m.\u001b[0m\u001b[0msleep\u001b[0m\u001b[1;33m(\u001b[0m\u001b[1;36m5\u001b[0m \u001b[1;33m)\u001b[0m       \u001b[1;31m# apply it with 45 minutes\u001b[0m\u001b[1;33m\u001b[0m\u001b[1;33m\u001b[0m\u001b[0m\n\u001b[0;32m     37\u001b[0m     \u001b[0mbot\u001b[0m\u001b[1;33m.\u001b[0m\u001b[0mclose\u001b[0m\u001b[1;33m(\u001b[0m\u001b[1;33m)\u001b[0m\u001b[1;33m\u001b[0m\u001b[1;33m\u001b[0m\u001b[0m\n",
      "\u001b[1;32m~\\anaconda3\\lib\\site-packages\\selenium\\webdriver\\remote\\webelement.py\u001b[0m in \u001b[0;36mclick\u001b[1;34m(self)\u001b[0m\n\u001b[0;32m     78\u001b[0m     \u001b[1;32mdef\u001b[0m \u001b[0mclick\u001b[0m\u001b[1;33m(\u001b[0m\u001b[0mself\u001b[0m\u001b[1;33m)\u001b[0m\u001b[1;33m:\u001b[0m\u001b[1;33m\u001b[0m\u001b[1;33m\u001b[0m\u001b[0m\n\u001b[0;32m     79\u001b[0m         \u001b[1;34m\"\"\"Clicks the element.\"\"\"\u001b[0m\u001b[1;33m\u001b[0m\u001b[1;33m\u001b[0m\u001b[0m\n\u001b[1;32m---> 80\u001b[1;33m         \u001b[0mself\u001b[0m\u001b[1;33m.\u001b[0m\u001b[0m_execute\u001b[0m\u001b[1;33m(\u001b[0m\u001b[0mCommand\u001b[0m\u001b[1;33m.\u001b[0m\u001b[0mCLICK_ELEMENT\u001b[0m\u001b[1;33m)\u001b[0m\u001b[1;33m\u001b[0m\u001b[1;33m\u001b[0m\u001b[0m\n\u001b[0m\u001b[0;32m     81\u001b[0m \u001b[1;33m\u001b[0m\u001b[0m\n\u001b[0;32m     82\u001b[0m     \u001b[1;32mdef\u001b[0m \u001b[0msubmit\u001b[0m\u001b[1;33m(\u001b[0m\u001b[0mself\u001b[0m\u001b[1;33m)\u001b[0m\u001b[1;33m:\u001b[0m\u001b[1;33m\u001b[0m\u001b[1;33m\u001b[0m\u001b[0m\n",
      "\u001b[1;32m~\\anaconda3\\lib\\site-packages\\selenium\\webdriver\\remote\\webelement.py\u001b[0m in \u001b[0;36m_execute\u001b[1;34m(self, command, params)\u001b[0m\n\u001b[0;32m    631\u001b[0m             \u001b[0mparams\u001b[0m \u001b[1;33m=\u001b[0m \u001b[1;33m{\u001b[0m\u001b[1;33m}\u001b[0m\u001b[1;33m\u001b[0m\u001b[1;33m\u001b[0m\u001b[0m\n\u001b[0;32m    632\u001b[0m         \u001b[0mparams\u001b[0m\u001b[1;33m[\u001b[0m\u001b[1;34m'id'\u001b[0m\u001b[1;33m]\u001b[0m \u001b[1;33m=\u001b[0m \u001b[0mself\u001b[0m\u001b[1;33m.\u001b[0m\u001b[0m_id\u001b[0m\u001b[1;33m\u001b[0m\u001b[1;33m\u001b[0m\u001b[0m\n\u001b[1;32m--> 633\u001b[1;33m         \u001b[1;32mreturn\u001b[0m \u001b[0mself\u001b[0m\u001b[1;33m.\u001b[0m\u001b[0m_parent\u001b[0m\u001b[1;33m.\u001b[0m\u001b[0mexecute\u001b[0m\u001b[1;33m(\u001b[0m\u001b[0mcommand\u001b[0m\u001b[1;33m,\u001b[0m \u001b[0mparams\u001b[0m\u001b[1;33m)\u001b[0m\u001b[1;33m\u001b[0m\u001b[1;33m\u001b[0m\u001b[0m\n\u001b[0m\u001b[0;32m    634\u001b[0m \u001b[1;33m\u001b[0m\u001b[0m\n\u001b[0;32m    635\u001b[0m     \u001b[1;32mdef\u001b[0m \u001b[0mfind_element\u001b[0m\u001b[1;33m(\u001b[0m\u001b[0mself\u001b[0m\u001b[1;33m,\u001b[0m \u001b[0mby\u001b[0m\u001b[1;33m=\u001b[0m\u001b[0mBy\u001b[0m\u001b[1;33m.\u001b[0m\u001b[0mID\u001b[0m\u001b[1;33m,\u001b[0m \u001b[0mvalue\u001b[0m\u001b[1;33m=\u001b[0m\u001b[1;32mNone\u001b[0m\u001b[1;33m)\u001b[0m\u001b[1;33m:\u001b[0m\u001b[1;33m\u001b[0m\u001b[1;33m\u001b[0m\u001b[0m\n",
      "\u001b[1;32m~\\anaconda3\\lib\\site-packages\\selenium\\webdriver\\remote\\webdriver.py\u001b[0m in \u001b[0;36mexecute\u001b[1;34m(self, driver_command, params)\u001b[0m\n\u001b[0;32m    319\u001b[0m         \u001b[0mresponse\u001b[0m \u001b[1;33m=\u001b[0m \u001b[0mself\u001b[0m\u001b[1;33m.\u001b[0m\u001b[0mcommand_executor\u001b[0m\u001b[1;33m.\u001b[0m\u001b[0mexecute\u001b[0m\u001b[1;33m(\u001b[0m\u001b[0mdriver_command\u001b[0m\u001b[1;33m,\u001b[0m \u001b[0mparams\u001b[0m\u001b[1;33m)\u001b[0m\u001b[1;33m\u001b[0m\u001b[1;33m\u001b[0m\u001b[0m\n\u001b[0;32m    320\u001b[0m         \u001b[1;32mif\u001b[0m \u001b[0mresponse\u001b[0m\u001b[1;33m:\u001b[0m\u001b[1;33m\u001b[0m\u001b[1;33m\u001b[0m\u001b[0m\n\u001b[1;32m--> 321\u001b[1;33m             \u001b[0mself\u001b[0m\u001b[1;33m.\u001b[0m\u001b[0merror_handler\u001b[0m\u001b[1;33m.\u001b[0m\u001b[0mcheck_response\u001b[0m\u001b[1;33m(\u001b[0m\u001b[0mresponse\u001b[0m\u001b[1;33m)\u001b[0m\u001b[1;33m\u001b[0m\u001b[1;33m\u001b[0m\u001b[0m\n\u001b[0m\u001b[0;32m    322\u001b[0m             response['value'] = self._unwrap_value(\n\u001b[0;32m    323\u001b[0m                 response.get('value', None))\n",
      "\u001b[1;32m~\\anaconda3\\lib\\site-packages\\selenium\\webdriver\\remote\\errorhandler.py\u001b[0m in \u001b[0;36mcheck_response\u001b[1;34m(self, response)\u001b[0m\n\u001b[0;32m    240\u001b[0m                 \u001b[0malert_text\u001b[0m \u001b[1;33m=\u001b[0m \u001b[0mvalue\u001b[0m\u001b[1;33m[\u001b[0m\u001b[1;34m'alert'\u001b[0m\u001b[1;33m]\u001b[0m\u001b[1;33m.\u001b[0m\u001b[0mget\u001b[0m\u001b[1;33m(\u001b[0m\u001b[1;34m'text'\u001b[0m\u001b[1;33m)\u001b[0m\u001b[1;33m\u001b[0m\u001b[1;33m\u001b[0m\u001b[0m\n\u001b[0;32m    241\u001b[0m             \u001b[1;32mraise\u001b[0m \u001b[0mexception_class\u001b[0m\u001b[1;33m(\u001b[0m\u001b[0mmessage\u001b[0m\u001b[1;33m,\u001b[0m \u001b[0mscreen\u001b[0m\u001b[1;33m,\u001b[0m \u001b[0mstacktrace\u001b[0m\u001b[1;33m,\u001b[0m \u001b[0malert_text\u001b[0m\u001b[1;33m)\u001b[0m\u001b[1;33m\u001b[0m\u001b[1;33m\u001b[0m\u001b[0m\n\u001b[1;32m--> 242\u001b[1;33m         \u001b[1;32mraise\u001b[0m \u001b[0mexception_class\u001b[0m\u001b[1;33m(\u001b[0m\u001b[0mmessage\u001b[0m\u001b[1;33m,\u001b[0m \u001b[0mscreen\u001b[0m\u001b[1;33m,\u001b[0m \u001b[0mstacktrace\u001b[0m\u001b[1;33m)\u001b[0m\u001b[1;33m\u001b[0m\u001b[1;33m\u001b[0m\u001b[0m\n\u001b[0m\u001b[0;32m    243\u001b[0m \u001b[1;33m\u001b[0m\u001b[0m\n\u001b[0;32m    244\u001b[0m     \u001b[1;32mdef\u001b[0m \u001b[0m_value_or_default\u001b[0m\u001b[1;33m(\u001b[0m\u001b[0mself\u001b[0m\u001b[1;33m,\u001b[0m \u001b[0mobj\u001b[0m\u001b[1;33m,\u001b[0m \u001b[0mkey\u001b[0m\u001b[1;33m,\u001b[0m \u001b[0mdefault\u001b[0m\u001b[1;33m)\u001b[0m\u001b[1;33m:\u001b[0m\u001b[1;33m\u001b[0m\u001b[1;33m\u001b[0m\u001b[0m\n",
      "\u001b[1;31mElementNotInteractableException\u001b[0m: Message: element not interactable\n  (Session info: chrome=89.0.4389.90)\n"
     ]
    }
   ],
   "source": [
    "import selenium\n",
    "from selenium import webdriver\n",
    "import datetime\n",
    "import time \n",
    "bot = webdriver.Chrome(executable_path=\"chromedriver.exe\")\n",
    "bot.get(\"https://cuchd.blackboard.com/?new_loc=%2Fultra%2Fcourse\")\n",
    "warning_ok=bot.find_element_by_xpath('//*[@id=\"agree_button\"]').click() # to click on ok button   # ptint driver.pagesource\n",
    "search_input = bot.find_element_by_xpath('//*[@id=\"user_id\"]')\n",
    "search_input.send_keys(\"20BCS6888\")\n",
    "search_input2 = bot.find_element_by_xpath('//*[@id=\"password\"]')\n",
    "search_input2.send_keys(\"@04Nov2000\")\n",
    "\n",
    "bot.find_element_by_xpath('//*[@id=\"entry-login\"]').click()\n",
    "\n",
    "time.sleep(10)\n",
    "\n",
    "\n",
    "\n",
    "\n",
    "saturday={'c1':'https://cuchd.blackboard.com/ultra/courses/_15868_1/outline' , 'c2':'https://cuchd.blackboard.com/ultra/courses/_15868_1/outline'}\n",
    "                # very good method to do so \n",
    "monday={'c1':'https://cuchd.blackboard.com/ultra/courses/_16908_1/outline','c2':'https://cuchd.blackboard.com/ultra/courses/_16908_1/outline','c3':'https://cuchd.blackboard.com/ultra/courses/_16908_1/outline','c4':'https://cuchd.blackboard.com/ultra/courses/_16908_1/outline','c5':'https://cuchd.blackboard.com/ultra/courses/_15408_1/outline','c6':'https://cuchd.blackboard.com/ultra/courses/_15408_1/outline'}\n",
    "tuesday={'c1':'https://cuchd.blackboard.com/ultra/courses/_16717_1/outline','c2':'https://cuchd.blackboard.com/ultra/courses/_16717_1/outline','c3':'https://cuchd.blackboard.com/ultra/courses/_17207_1/outline','c4':'https://cuchd.blackboard.com/ultra/courses/_15408_1/outline','c5':'https://cuchd.blackboard.com/ultra/courses/_15408_1/outline','c6':'https://cuchd.blackboard.com/ultra/courses/_15408_1/outline','c7':'https://cuchd.blackboard.com/ultra/courses/_17209_1/outline'}\n",
    "wednesday={'c1':'https://cuchd.blackboard.com/ultra/courses/_17207_1/outline','c2':' https://cuchd.blackboard.com/ultra/courses/_16007_1/outline','c3':' https://cuchd.blackboard.com/ultra/courses/_16007_1/outline','c4':' https://cuchd.blackboard.com/ultra/courses/_16087_1/outline','c5':' https://cuchd.blackboard.com/ultra/courses/_16087_1/outline','c6':'https://cuchd.blackboard.com/ultra/courses/_17589_1/outline'}\n",
    "thursday={'c1':' https://cuchd.blackboard.com/ultra/courses/_16087_1/outline','c2':'https://cuchd.blackboard.com/ultra/courses/_15700_1/outline','c3':'https://cuchd.blackboard.com/ultra/courses/_15700_1/outline','c4':'https://cuchd.blackboard.com/ultra/courses/_17589_1/outline','c5':'https://cuchd.blackboard.com/ultra/courses/_17589_1/outline','c6':'https://cuchd.blackboard.com/ultra/courses/_17812_1/outline','c7':'https://cuchd.blackboard.com/ultra/courses/_17209_1/outline'}     # we should use try and except for vacant classes \n",
    "friday={'c1':'https://cuchd.blackboard.com/ultra/courses/_16908_1/outline','c2':' https://cuchd.blackboard.com/ultra/courses/_17207_1/outline','c3':'https://cuchd.blackboard.com/ultra/courses/_16087_1/outline','c4':'https://cuchd.blackboard.com/ultra/courses/_17589_1/outline','c5':'https://cuchd.blackboard.com/ultra/courses/_17589_1/outline','c6':' https://cuchd.blackboard.com/ultra/courses/_15558_1/outline','c7':' https://cuchd.blackboard.com/ultra/courses/_15558_1/outline'}\n",
    "\n",
    "\n",
    "\n",
    "def chosing_subjects(a):\n",
    "    for key  in a.keys():\n",
    "        need=a[key]                            \n",
    "        bot.get(need)\n",
    "        time.sleep(5)\n",
    "      # but rooms closed so dont do  bot.find_element_by_xpath('//*[@id=\"sessions-list-dropdown\"]/span').click() # to click on join session\n",
    "        time.sleep(5 )       # apply it with 45 minutes \n",
    "    bot.close() \n",
    "                   \n",
    "\n",
    "                   \n",
    "                   \n",
    "present = datetime.datetime.now()\n",
    "present_day=present.weekday()\n",
    "\n",
    "\n",
    "    \n",
    "                   \n",
    "if present_day==0:\n",
    "     chosing_subjects(monday)\n",
    " \n",
    "elif present_day==1:\n",
    "      chosing_subjects(tuesday)\n",
    "                   \n",
    "elif present_day==2:\n",
    "      chosing_subjects(wednesday)\n",
    "              \n",
    "elif present_day==3:\n",
    "      chosing_subjects(thursday)                \n",
    "                   \n",
    "elif present_day==4:\n",
    "      chosing_subjects(friday)                   \n",
    "                   \n",
    "elif present_day==5:\n",
    "      chosing_subjects(saturday)\n",
    "                   \n",
    "\n",
    "        \n"
   ]
  },
  {
   "cell_type": "code",
   "execution_count": 21,
   "metadata": {},
   "outputs": [
    {
     "ename": "SyntaxError",
     "evalue": "invalid syntax (<ipython-input-21-2386549f8ef8>, line 1)",
     "output_type": "error",
     "traceback": [
      "\u001b[1;36m  File \u001b[1;32m\"<ipython-input-21-2386549f8ef8>\"\u001b[1;36m, line \u001b[1;32m1\u001b[0m\n\u001b[1;33m    https://cuchd.blackboard.com/ultra/courses/_17589_1/outline bio\u001b[0m\n\u001b[1;37m          ^\u001b[0m\n\u001b[1;31mSyntaxError\u001b[0m\u001b[1;31m:\u001b[0m invalid syntax\n"
     ]
    }
   ],
   "source": [
    "https://cuchd.blackboard.com/ultra/courses/_17589_1/outline bio\n",
    " \n",
    "https://cuchd.blackboard.com/ultra/courses/_17209_1/outline #calculus for c\n",
    "    \n",
    "    https://cuchd.blackboard.com/ultra/courses/_17207_1/outline #calculus for all\n",
    "        \n",
    "        https://cuchd.blackboard.com/ultra/courses/_15558_1/outline# computer workshop\n",
    "            \n",
    "            https://cuchd.blackboard.com/ultra/courses/_16087_1/outline #de\n",
    "                \n",
    "                https://cuchd.blackboard.com/ultra/courses/_16007_1/outline #delab\n",
    "                    \n",
    "                    https://cuchd.blackboard.com/ultra/courses/_15868_1/outline   #iot\n",
    "                        \n",
    "                        https://cuchd.blackboard.com/ultra/courses/_17812_1/outline  #life skills \n",
    "                            \n",
    "                            https://cuchd.blackboard.com/ultra/courses/_15700_1/outline # obj oriented using c++\n",
    "                                \n",
    "                                https://cuchd.blackboard.com/ultra/courses/_15408_1/outline # obj oriented using c++lab\n",
    "                                    \n",
    "                                    https://cuchd.blackboard.com/ultra/courses/_16908_1/outline#professional comm skills\n",
    "                                        \n",
    "                                        https://cuchd.blackboard.com/ultra/courses/_16717_1/outline # pcs lab\n",
    "                    //*[@id=\"session-menu-open\"]"
   ]
  },
  {
   "cell_type": "code",
   "execution_count": 31,
   "metadata": {},
   "outputs": [
    {
     "data": {
      "text/plain": [
       "int"
      ]
     },
     "execution_count": 31,
     "metadata": {},
     "output_type": "execute_result"
    }
   ],
   "source": [
    "import datetime\n",
    "now = datetime.datetime.now()\n",
    "type(now.weekday())"
   ]
  },
  {
   "cell_type": "code",
   "execution_count": null,
   "metadata": {},
   "outputs": [],
   "source": [
    "https://teams.microsoft.com/l/meetup-join/19%3a8ecb12d4ec414076865fc18474aa6c28%40thread.tacv2/1617028248057?context=%7b%22Tid%22%3a%2234bd8bed-2ac1-41ae-9f08-4e0a3f11706c%22%2c%22Oid%22%3a%2282ebbd2f-5fe3-4c01-af25-f943f710edbf%22%7d\n",
    "    \n",
    "    <a href=\"https://teams.microsoft.com/l/meetup-join/19%3a8ecb12d4ec414076865fc18474aa6c28%40thread.tacv2/1617028248057?context=%7b%22Tid%22%3a%2234bd8bed-2ac1-41ae-9f08-4e0a3f11706c%22%2c%22Oid%22%3a%2282ebbd2f-5fe3-4c01-af25-f943f710edbf%22%7d\" target=\"_blank\" class=\"wants-props-update\" tabindex=\"0\">TUESDAY 1</a>\n",
    "    \n",
    "    \n",
    "    \n",
    "    href=\"https://teams.microsoft.com/l/meetup-join/19%3a8ecb12d4ec414076865fc18474aa6c28%40thread.tacv2/1617029372910?context=%7b%22Tid%22%3a%2234bd8bed-2ac1-41ae-9f08-4e0a3f11706c%22%2c%22Oid%22%3a%2282ebbd2f-5fe3-4c01-af25-f943f710edbf%22%7d\n",
    "    \n",
    "    \n",
    "    //*[@id=\"sessions-list\"]/li[2]/a/span     maths join  session x path   maths \n",
    "    \n",
    "    \n",
    "    //*[@id=\"session-menu-open\"]  x path of before leaving section  msths \n",
    "    \n",
    "    \n",
    "    //*[@id=\"leave-session\"]/span/span    leave session part  maths \n",
    "    \n",
    "    \n",
    "    \n",
    "    https://cuchd-in.zoom.us/j/93479436823  link for zoom c++ class\n",
    "        \n",
    "    <a href=\"https://cuchd-in.zoom.us/j/92824730708\" target=\"_blank\" class=\"wants-props-update\" tabindex=\"0\">TUESDAY_6</a>\n",
    "    \n",
    "    \n",
    "    \n",
    "    //*[@id=\"bb-editor-textbox\"]/p[4]/a  x path for first c++ class \n",
    "    \n",
    "    \n",
    "    //*[@id=\"bb-editor-textbox\"]/p[5]/a   x path for second c++ class \n",
    "    \n",
    "    \n",
    "    \n",
    "    //*[@id=\"sessions-list\"]/li[2]/a/span maths join session list \n",
    "    \n",
    "    \n",
    "    \n",
    "    //*[@id=\"main-content\"]/div[3]/div/div[3]/div/div/div/div[2]/div/div[2]/div[3]/div/div[2]/div[3]/div/div[3]/div[4]/div/div/div/div/div/div[2]/ng-switch/div/div/div/div/bb-content-item-base/div/div/div/div/div/div[1]/div/ng-switch/div/div[2]/div[1]/bb-content-item-course-outline/div/div[1]/ng-switch/div/bb-content-item-page/div/a/span    links for online classes \n",
    "    \n",
    "    \n",
    "    <a href=\"https://teams.microsoft.com/l/meetup-join/19%3acf44bcaba8094ddaa34d589eabcfae7b%40thread.tacv2/1617006703764?context=%7b%22Tid%22%3a%2234bd8bed-2ac1-41ae-9f08-4e0a3f11706c%22%2c%22Oid%22%3a%222c9412a8-a4a7-4b28-a25e-ff418806c5ae%22%7d\" target=\"_blank\" class=\"wants-props-update\" tabindex=\"0\">WEDNESDAY_2</a>   \n",
    "    "
   ]
  }
 ],
 "metadata": {
  "kernelspec": {
   "display_name": "Python 3",
   "language": "python",
   "name": "python3"
  },
  "language_info": {
   "codemirror_mode": {
    "name": "ipython",
    "version": 3
   },
   "file_extension": ".py",
   "mimetype": "text/x-python",
   "name": "python",
   "nbconvert_exporter": "python",
   "pygments_lexer": "ipython3",
   "version": "3.8.5"
  }
 },
 "nbformat": 4,
 "nbformat_minor": 4
}
