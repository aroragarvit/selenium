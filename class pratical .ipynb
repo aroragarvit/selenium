{
 "cells": [
  {
   "cell_type": "code",
   "execution_count": 12,
   "id": "f6480ddb",
   "metadata": {},
   "outputs": [
    {
     "name": "stdout",
     "output_type": "stream",
     "text": [
      "january : 3 :  vovels are ['a', 'u', 'a']\n",
      "februry : 2 :  vovels are ['e', 'u']\n",
      "march : 1 :  vovels are ['a']\n",
      "april : 2 :  vovels are ['a', 'i']\n",
      "may : 1 :  vovels are ['a']\n",
      "june : 2 :  vovels are ['u', 'e']\n",
      "july : 1 :  vovels are ['u']\n",
      "august : 3 :  vovels are ['a', 'u', 'u']\n",
      "september : 3 :  vovels are ['e', 'e', 'e']\n",
      "october : 3 :  vovels are ['o', 'o', 'e']\n",
      "november : 3 :  vovels are ['o', 'e', 'e']\n",
      "december : 3 :  vovels are ['e', 'e', 'e']\n"
     ]
    }
   ],
   "source": [
    "l=[\"january\",\"februry\",\"march\",\"april\",\"may\",\"june\" , \"july\" , \"august\" , \"september\",\"october\",\"november\",\"december\"]\n",
    "vovels=\"AaEeIiOoUu\"\n",
    "for i in l:\n",
    "    number = 0\n",
    "    vovels_present = [j for j in i if j in vovels]\n",
    "   \n",
    "    number = len(vovels_present)\n",
    "    print (i + \" : \" + str(number) + \" : \" + \" vovels are \" + str(vovels_present))\n",
    "    \n"
   ]
  },
  {
   "cell_type": "code",
   "execution_count": null,
   "id": "94d8a197",
   "metadata": {},
   "outputs": [],
   "source": []
  }
 ],
 "metadata": {
  "kernelspec": {
   "display_name": "Python 3",
   "language": "python",
   "name": "python3"
  },
  "language_info": {
   "codemirror_mode": {
    "name": "ipython",
    "version": 3
   },
   "file_extension": ".py",
   "mimetype": "text/x-python",
   "name": "python",
   "nbconvert_exporter": "python",
   "pygments_lexer": "ipython3",
   "version": "3.8.8"
  }
 },
 "nbformat": 4,
 "nbformat_minor": 5
}
