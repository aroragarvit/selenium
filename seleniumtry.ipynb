{
 "cells": [
  {
   "cell_type": "code",
   "execution_count": 1,
   "metadata": {},
   "outputs": [
    {
     "output_type": "stream",
     "name": "stdout",
     "text": [
      "[<selenium.webdriver.remote.webelement.WebElement (session=\"c605ae925487e8a08328a97e51696120\", element=\"9294b1c2-e06c-4402-b63d-d265ac938b2e\")>, <selenium.webdriver.remote.webelement.WebElement (session=\"c605ae925487e8a08328a97e51696120\", element=\"fd62c7a3-3879-4e13-a901-6c8ca23e2ac4\")>, <selenium.webdriver.remote.webelement.WebElement (session=\"c605ae925487e8a08328a97e51696120\", element=\"4fe13c4a-6ee9-4c27-bca3-309c227de215\")>, <selenium.webdriver.remote.webelement.WebElement (session=\"c605ae925487e8a08328a97e51696120\", element=\"a550c327-6350-4b94-b2c8-4fab738fc1de\")>, <selenium.webdriver.remote.webelement.WebElement (session=\"c605ae925487e8a08328a97e51696120\", element=\"cff1bfea-8e0c-40ff-95a8-93d90e4f97c1\")>, <selenium.webdriver.remote.webelement.WebElement (session=\"c605ae925487e8a08328a97e51696120\", element=\"fde326e2-7b0d-427b-97bb-e9e03d7ceb5f\")>, <selenium.webdriver.remote.webelement.WebElement (session=\"c605ae925487e8a08328a97e51696120\", element=\"87e86100-bbc2-4663-a5e8-a42b5c2b65dc\")>, <selenium.webdriver.remote.webelement.WebElement (session=\"c605ae925487e8a08328a97e51696120\", element=\"d2ed8104-de08-4a06-a76e-dd200613fda9\")>, <selenium.webdriver.remote.webelement.WebElement (session=\"c605ae925487e8a08328a97e51696120\", element=\"470088af-b4f5-474b-b2dd-183ac1d24d74\")>, <selenium.webdriver.remote.webelement.WebElement (session=\"c605ae925487e8a08328a97e51696120\", element=\"133e9bae-8f64-4ead-b6e7-c3aea675e899\")>, <selenium.webdriver.remote.webelement.WebElement (session=\"c605ae925487e8a08328a97e51696120\", element=\"ac656e1f-1f4e-4e7f-b2d9-3dae7f47912a\")>, <selenium.webdriver.remote.webelement.WebElement (session=\"c605ae925487e8a08328a97e51696120\", element=\"1f5859b5-c2d5-4a9d-89df-03fdf71ffe35\")>, <selenium.webdriver.remote.webelement.WebElement (session=\"c605ae925487e8a08328a97e51696120\", element=\"9fb380c9-b129-471b-9bbc-f02e2f647a78\")>, <selenium.webdriver.remote.webelement.WebElement (session=\"c605ae925487e8a08328a97e51696120\", element=\"f88e77fb-82c1-4f42-94d2-bfdd33afdeef\")>, <selenium.webdriver.remote.webelement.WebElement (session=\"c605ae925487e8a08328a97e51696120\", element=\"184faaee-9ae1-47b5-bb85-e9112d6f9aea\")>, <selenium.webdriver.remote.webelement.WebElement (session=\"c605ae925487e8a08328a97e51696120\", element=\"098f168e-a206-4c31-b5b1-25e9c22fb141\")>, <selenium.webdriver.remote.webelement.WebElement (session=\"c605ae925487e8a08328a97e51696120\", element=\"105bd0be-e236-4897-9ba5-2daf7e057b1d\")>, <selenium.webdriver.remote.webelement.WebElement (session=\"c605ae925487e8a08328a97e51696120\", element=\"e098b29a-4344-46eb-b709-5b1537031540\")>, <selenium.webdriver.remote.webelement.WebElement (session=\"c605ae925487e8a08328a97e51696120\", element=\"22b71037-29ba-449a-ab75-f0b3e1480385\")>, <selenium.webdriver.remote.webelement.WebElement (session=\"c605ae925487e8a08328a97e51696120\", element=\"f4f31918-9334-4ebd-96a4-f964680e87f4\")>, <selenium.webdriver.remote.webelement.WebElement (session=\"c605ae925487e8a08328a97e51696120\", element=\"62a5a76d-1842-4e5c-97c9-262f5f515acb\")>, <selenium.webdriver.remote.webelement.WebElement (session=\"c605ae925487e8a08328a97e51696120\", element=\"8d2dbc44-4c1f-4752-a71b-927ebcf37e0c\")>, <selenium.webdriver.remote.webelement.WebElement (session=\"c605ae925487e8a08328a97e51696120\", element=\"ce7d664b-682f-487e-986d-5264e4e03b00\")>]\n",
      "In programming, there exists situations when you need to repeat single or a group of statements till some condition is met. Such as - read all files of a directory, send mail to all employees one after another etc. These task in C programming is handled by looping statements.\n",
      "\n",
      "Looping statement defines a set of repetitive statements. These statements are repeated with same or different parameters for a number of times. Looping statement is also known as iterative or repetitive statement.\n",
      "C supports three looping statements.\n",
      "In this exercise we will practice lots of looping problems to get a strong grip on loop. This is most recommended C programming exercise for beginners.\n",
      "Always feel free to drop your queries, suggestions, hugs or bugs down below in the comments section. I always look forward to hear from you.\n",
      "Basic C programming, Relational operators, Logical operators, If else, For loop\n",
      "\n",
      "\n",
      "\n",
      "\n",
      "\n",
      "\n",
      "\n",
      "Pankaj Prakash is the founder, editor and blogger at Codeforwin. He loves to learn new techs and write programming articles especially for beginners. He works at Vasudhaika Software Sols. as a Software Design Engineer and manages Codeforwin. In short Pankaj is Web developer, Blogger, Learner, Tech and Music lover.\n",
      "Follow on: Facebook | Twitter | Google | Website or View all posts by Pankaj\n",
      "\n",
      "\n",
      "\n",
      "\n",
      "\n",
      "\n",
      "Created with by Pankaj Prakash\n"
     ]
    }
   ],
   "source": [
    "# learn about tag name search  and how to print text \n",
    "\n",
    "\n",
    "import selenium\n",
    "from selenium import webdriver\n",
    "import time\n",
    "\n",
    "\n",
    "bot = webdriver.Chrome(executable_path=\"chromedriver.exe\")\n",
    "bot.get(\"https://codeforwin.org/2015/06/for-do-while-loop-programming-exercises.html\")\n",
    "time.sleep(4)\n",
    "x=bot.find_elements_by_tag_name(\"p\")                     # all the elemetnts having p tag are selected \n",
    "\n",
    "print(x)\n",
    "time.sleep(4)\n",
    "for i in x:\n",
    "    print(i.text)\n",
    "  "
   ]
  },
  {
   "cell_type": "markdown",
   "metadata": {},
   "source": [
    "trying to get all the links "
   ]
  },
  {
   "cell_type": "code",
   "execution_count": 10,
   "metadata": {},
   "outputs": [
    {
     "name": "stdout",
     "output_type": "stream",
     "text": [
      "['https://codeforwin.org/2015/06/c-program-to-print-natural-numbers-from-1-to-n.html', 'https://codeforwin.org/2015/07/c-program-to-print-all-natural-numbers-in-reverse.html', 'https://codeforwin.org/2015/06/c-program-to-print-a-to-z.html', 'https://codeforwin.org/2015/06/c-program-to-print-all-even-numbers-between-1-to-100.html', 'https://codeforwin.org/2015/06/c-program-to-print-all-odd--numbers-between-1-to-100.html', 'https://codeforwin.org/2015/06/c-program-to-calculate-sum-of-first-n-natural-numbers.html', 'https://codeforwin.org/2015/06/c-program-to-print-sum-of-all-even-numbers-between-1-to-n.html', 'https://codeforwin.org/2015/06/c-program-to-print-sum-of-all-odd-numbers-between-1-to-n.html', 'https://codeforwin.org/2015/06/c-program-to-print-table-of-any-number.html', 'https://codeforwin.org/2016/10/c-program-to-count-number-of-digits-in-number.html', 'https://codeforwin.org/2015/06/how-to-find-first-and-last-digit-of-any-number.html', 'https://codeforwin.org/2015/06/c-program-to-find-sum-of-first-and-last-digit-of-number.html', 'https://codeforwin.org/2016/01/c-program-to-swap-first-and-last-digit-of-number.html', 'https://codeforwin.org/2015/06/c-program-to-calculate-sum-of-digits.html', 'https://codeforwin.org/2015/06/c-program-to-calculate-product-of-digits.html', 'https://codeforwin.org/2015/06/c-program-to-find-reverse-of-any-number.html', 'https://codeforwin.org/2015/06/c-program-to-check-whether-number-is-palindrome-or-not.html', 'https://codeforwin.org/2016/10/c-program-to-count-frequency-of-digits-in-number.html', 'https://codeforwin.org/2015/06/c-program-to-print-numbers-in-words.html', 'https://codeforwin.org/2015/06/c-program-to-print-ascii-values-of-all-characters.html', 'https://codeforwin.org/2015/07/c-program-to-find-power-of-number-using-for-loop.html', 'https://codeforwin.org/2015/06/c-program-to-print-factors-of-any-number.html', 'https://codeforwin.org/2015/06/c-program-to-calculate-factorial-of-any-number.html', 'https://codeforwin.org/2015/06/c-program-to-find-hcf-of-two-numbers.html', 'https://codeforwin.org/2015/06/c-program-to-find-lcm-of-two-numbers.html', 'https://codeforwin.org/2015/06/c-program-to-check-prime-number.html', 'https://codeforwin.org/2015/06/c-program-to-print-all-prime-numbers-between-1-to-n.html', 'https://codeforwin.org/2015/06/c-program-to-find-sum-of-all-prime.html', 'https://codeforwin.org/2015/06/c-program-to-find-all-prime-factors-of-any-number.html', 'https://codeforwin.org/2015/06/c-program-to-check-armstrong-number.html', 'https://codeforwin.org/2015/06/c-program-to-print-first-n-armstrong-numbers.html', 'https://codeforwin.org/2015/06/c-program-to-check-perfect-number.html', 'https://codeforwin.org/2015/06/c-program-to-print-all-perfect-numbers-between-1-to-n.html', 'https://codeforwin.org/2015/06/c-program-to-check-strong-number.html', 'https://codeforwin.org/2015/06/c-program-to-print-all-strong-numbers.html', 'https://codeforwin.org/2015/06/fibonacci-series-in-c-program.html', 'https://codeforwin.org/2015/08/c-program-to-find-ones-complement-of-binary-number.html', 'https://codeforwin.org/2015/08/c-program-to-find-twos-complement-of-binary-number.html', 'https://codeforwin.org/2015/08/c-program-to-convert-binary-to-octal-number-system.html', 'https://codeforwin.org/2015/08/c-program-to-convert-binary-to-decimal-number-system.html', 'https://codeforwin.org/2015/08/c-program-to-convert-binary-to-hexadecimal-number-system.html', 'https://codeforwin.org/2015/08/c-program-to-convert-octal-to-binary-number-system.html', 'https://codeforwin.org/2015/08/c-program-to-convert-octal-to-decimal-number-system.html', 'https://codeforwin.org/2015/08/c-program-to-convert-octal-to-hexadecimal-number-system.html', 'https://codeforwin.org/2015/08/c-program-to-convert-from-decimal-to-binary-number-system.html', 'https://codeforwin.org/2015/08/c-program-to-convert-decimal-to-octal-number-system.html', 'https://codeforwin.org/2015/08/c-program-to-convert-decimal-to-hexadecimal-number-system.html', 'https://codeforwin.org/2015/08/c-program-to-convert-hexadecimal-to-binary-number-system.html', 'https://codeforwin.org/2015/09/c-program-to-convert-hexadecimal-to-octal-number-system.html', 'https://codeforwin.org/2015/09/c-program-to-convert-hexadecimal-to-decimal-number-system.html', 'https://codeforwin.org/2015/07/c-program-to-print-pascal-triangle.html', 'https://codeforwin.org/2015/07/star-patterns-program-in-c.html', 'https://codeforwin.org/2016/06/number-pattern-programs-in-c.html']\n"
     ]
    }
   ],
   "source": [
    "import selenium\n",
    "from selenium import webdriver\n",
    "import time\n",
    "# very good code to know about parent chld selection and selections and about concept of attributes as well as tag names \n",
    "\n",
    "bot = webdriver.Chrome(executable_path=\"chromedriver.exe\")\n",
    "bot.get(\"https://codeforwin.org/2015/06/for-do-while-loop-programming-exercises.html\")\n",
    "time.sleep(4)\n",
    "x=bot.find_element_by_tag_name(\"ol\")\n",
    "\n",
    "y=x.find_elements_by_tag_name(\"li\")        \n",
    "time.sleep(2)\n",
    "mylist=[]\n",
    "for i in y:\n",
    "    z=i.find_element_by_tag_name(\"a\").get_attribute('href')\n",
    "    mylist.append(z)\n",
    "      \n",
    "# ol tag has many li tags in which each of them has a tag which is having attribute href  \n",
    "\n",
    "   \n",
    "# as a prent child i am trying it                                       href attribute itself contains link so we are getting it  already \n",
    "time.sleep(4)\n",
    "\n",
    "print(mylist)\n"
   ]
  },
  {
   "cell_type": "code",
   "execution_count": 5,
   "metadata": {},
   "outputs": [
    {
     "output_type": "stream",
     "name": "stdout",
     "text": [
      "<selenium.webdriver.remote.webelement.WebElement (session=\"1a14a9dc82e2ffd5e47658f110ea3736\", element=\"783a689f-4417-4d19-81a0-e4e4103131d6\")>\n",
      "<selenium.webdriver.remote.webelement.WebElement (session=\"1a14a9dc82e2ffd5e47658f110ea3736\", element=\"57592906-9994-4360-ac2b-e28606bc1214\")>\n",
      "<selenium.webdriver.remote.webelement.WebElement (session=\"1a14a9dc82e2ffd5e47658f110ea3736\", element=\"4584de52-f923-4f69-9e3c-7fe871065c1a\")>\n",
      "<selenium.webdriver.remote.webelement.WebElement (session=\"1a14a9dc82e2ffd5e47658f110ea3736\", element=\"27605a0e-af8c-405e-8b32-17b45e6ac33b\")>\n",
      "<selenium.webdriver.remote.webelement.WebElement (session=\"1a14a9dc82e2ffd5e47658f110ea3736\", element=\"58618631-bc9f-4ff2-bde6-779a6a7b57db\")>\n",
      "<selenium.webdriver.remote.webelement.WebElement (session=\"1a14a9dc82e2ffd5e47658f110ea3736\", element=\"12d093ee-2eff-4e53-9a52-e9f721c0c552\")>\n",
      "<selenium.webdriver.remote.webelement.WebElement (session=\"1a14a9dc82e2ffd5e47658f110ea3736\", element=\"896ce922-0f4f-4a57-ac9d-ddfaa5d490e7\")>\n",
      "<selenium.webdriver.remote.webelement.WebElement (session=\"1a14a9dc82e2ffd5e47658f110ea3736\", element=\"259d61d0-8991-4105-b1e3-1375c012d9d5\")>\n",
      "<selenium.webdriver.remote.webelement.WebElement (session=\"1a14a9dc82e2ffd5e47658f110ea3736\", element=\"d35fb9bd-bf85-4bc3-bbe4-36c44c3131be\")>\n",
      "<selenium.webdriver.remote.webelement.WebElement (session=\"1a14a9dc82e2ffd5e47658f110ea3736\", element=\"2a969398-519b-4aef-aa10-91ad7f42daf1\")>\n",
      "<selenium.webdriver.remote.webelement.WebElement (session=\"1a14a9dc82e2ffd5e47658f110ea3736\", element=\"41feef71-0b94-40c1-8eab-a74b7119b7a3\")>\n",
      "<selenium.webdriver.remote.webelement.WebElement (session=\"1a14a9dc82e2ffd5e47658f110ea3736\", element=\"db8002fc-618c-43c0-a7c6-04e2ee838687\")>\n",
      "<selenium.webdriver.remote.webelement.WebElement (session=\"1a14a9dc82e2ffd5e47658f110ea3736\", element=\"4c20165f-b3de-4d06-99e9-040522efe499\")>\n",
      "<selenium.webdriver.remote.webelement.WebElement (session=\"1a14a9dc82e2ffd5e47658f110ea3736\", element=\"55dcf0fb-9432-437d-88a2-c81bea592f5a\")>\n",
      "<selenium.webdriver.remote.webelement.WebElement (session=\"1a14a9dc82e2ffd5e47658f110ea3736\", element=\"9058295c-0375-4167-a732-34a5cabd2bad\")>\n",
      "<selenium.webdriver.remote.webelement.WebElement (session=\"1a14a9dc82e2ffd5e47658f110ea3736\", element=\"26ab5211-1a39-45ee-a415-76526c0926ad\")>\n",
      "<selenium.webdriver.remote.webelement.WebElement (session=\"1a14a9dc82e2ffd5e47658f110ea3736\", element=\"5237f09b-062b-416f-befa-3d5524603ed6\")>\n",
      "<selenium.webdriver.remote.webelement.WebElement (session=\"1a14a9dc82e2ffd5e47658f110ea3736\", element=\"ba27cdd1-0f94-477d-97d6-23f9de9978c2\")>\n",
      "<selenium.webdriver.remote.webelement.WebElement (session=\"1a14a9dc82e2ffd5e47658f110ea3736\", element=\"b8f2e522-ba95-4be3-9df0-797c2c6bddfb\")>\n",
      "<selenium.webdriver.remote.webelement.WebElement (session=\"1a14a9dc82e2ffd5e47658f110ea3736\", element=\"03487958-d982-47bd-9a8f-222e4f695f99\")>\n",
      "<selenium.webdriver.remote.webelement.WebElement (session=\"1a14a9dc82e2ffd5e47658f110ea3736\", element=\"4aa2f4ca-c717-4a8d-af59-ecafedc55043\")>\n",
      "<selenium.webdriver.remote.webelement.WebElement (session=\"1a14a9dc82e2ffd5e47658f110ea3736\", element=\"7063383b-d845-47fd-ad02-4d691bf6a5e4\")>\n",
      "<selenium.webdriver.remote.webelement.WebElement (session=\"1a14a9dc82e2ffd5e47658f110ea3736\", element=\"fdbf707a-ce4b-4fb2-8326-70cce5c1172f\")>\n",
      "<selenium.webdriver.remote.webelement.WebElement (session=\"1a14a9dc82e2ffd5e47658f110ea3736\", element=\"b0baf00d-be23-4dc1-92ef-32927a824706\")>\n",
      "<selenium.webdriver.remote.webelement.WebElement (session=\"1a14a9dc82e2ffd5e47658f110ea3736\", element=\"1a50cd57-3afb-4128-8e4e-d7d32ed9b1ff\")>\n",
      "<selenium.webdriver.remote.webelement.WebElement (session=\"1a14a9dc82e2ffd5e47658f110ea3736\", element=\"3e2530e8-8b46-4245-89a6-b1f4b98e7dbf\")>\n",
      "<selenium.webdriver.remote.webelement.WebElement (session=\"1a14a9dc82e2ffd5e47658f110ea3736\", element=\"fdd029ac-8514-4a09-9804-ddb917fc6dba\")>\n",
      "<selenium.webdriver.remote.webelement.WebElement (session=\"1a14a9dc82e2ffd5e47658f110ea3736\", element=\"e128b4ac-4ef5-47ce-baeb-6343c0c3b27e\")>\n",
      "<selenium.webdriver.remote.webelement.WebElement (session=\"1a14a9dc82e2ffd5e47658f110ea3736\", element=\"0bd010a3-909a-42e1-848b-a6b5ebc977b9\")>\n",
      "<selenium.webdriver.remote.webelement.WebElement (session=\"1a14a9dc82e2ffd5e47658f110ea3736\", element=\"0a5c0137-435d-4d50-89de-54882da61f15\")>\n",
      "<selenium.webdriver.remote.webelement.WebElement (session=\"1a14a9dc82e2ffd5e47658f110ea3736\", element=\"968bfe24-bba1-4867-9955-bc1f7bdc3721\")>\n",
      "<selenium.webdriver.remote.webelement.WebElement (session=\"1a14a9dc82e2ffd5e47658f110ea3736\", element=\"c350467f-3b8c-40c0-9712-d132527001cd\")>\n",
      "<selenium.webdriver.remote.webelement.WebElement (session=\"1a14a9dc82e2ffd5e47658f110ea3736\", element=\"92869927-ec5b-4a95-be73-6661f36a5040\")>\n",
      "<selenium.webdriver.remote.webelement.WebElement (session=\"1a14a9dc82e2ffd5e47658f110ea3736\", element=\"6d065bb6-9722-4d8d-b19f-6f4f69ccfe49\")>\n",
      "<selenium.webdriver.remote.webelement.WebElement (session=\"1a14a9dc82e2ffd5e47658f110ea3736\", element=\"2b1d214c-098e-4742-9ba8-37415beee42e\")>\n",
      "<selenium.webdriver.remote.webelement.WebElement (session=\"1a14a9dc82e2ffd5e47658f110ea3736\", element=\"69a2723a-2028-47ee-b3b6-5e5b0abd4718\")>\n",
      "<selenium.webdriver.remote.webelement.WebElement (session=\"1a14a9dc82e2ffd5e47658f110ea3736\", element=\"194763bc-374a-4548-bfc8-7a71f55eeaec\")>\n",
      "<selenium.webdriver.remote.webelement.WebElement (session=\"1a14a9dc82e2ffd5e47658f110ea3736\", element=\"17fcb88d-dea2-4880-bd3c-e8fcf94d1446\")>\n",
      "<selenium.webdriver.remote.webelement.WebElement (session=\"1a14a9dc82e2ffd5e47658f110ea3736\", element=\"440c08df-4756-4c38-82fb-9999a349ebb2\")>\n",
      "\n",
      "\n",
      "\n",
      "Raat ke chor\n",
      "Puneet Kot1\n",
      ": \n",
      "Sticker\n",
      "war zone\n",
      "+91 82351 83944\n",
      ": \n",
      "Haa\n",
      "Rishita Whatsàpp\n",
      "Mei toh mail krne walii\n",
      "OOP AIML- 4 C\n",
      "Cu Isha Sharma\n",
      ": \n",
      "DMA.pptx\n",
      "Coding Club India : CU, E\n",
      "+91 97181 67527\n",
      ": \n",
      "Google Coding Interview Given an array C[], write a program that prints 1 if array is sorted in non-decreasing order, else prints 0.   Cracking big tech companies made easy. Online batch starting from 3rd May.\n",
      "Technocrats of CU\n",
      "+91 93529 25321\n",
      ": \n",
      "4b\n",
      "Geeks god's of CU\n",
      "+91 89689 13583\n",
      ": \n",
      "Beee ki exp-9,10pre post send kar do please\n",
      "20CSE SEM 2(4)\n",
      "+91 99360 00088\n",
      ": \n",
      "Iot 2.2 worksheet???\n",
      "BATCH (2020-24)\n",
      "+91 93066 40275\n",
      ": \n",
      "Iska btao\n",
      "UNOFFICIAL AIML-4C\n",
      "+91 84343 59088\n",
      ": \n",
      "Yes\n",
      "Reet1\n",
      "apan vs code ma to vaisa bhi live share kar sakt ha na\n"
     ]
    },
    {
     "output_type": "error",
     "ename": "StaleElementReferenceException",
     "evalue": "Message: stale element reference: element is not attached to the page document\n  (Session info: chrome=90.0.4430.85)\n",
     "traceback": [
      "\u001b[1;31m---------------------------------------------------------------------------\u001b[0m",
      "\u001b[1;31mStaleElementReferenceException\u001b[0m            Traceback (most recent call last)",
      "\u001b[1;32m<ipython-input-5-a121c53bf286>\u001b[0m in \u001b[0;36m<module>\u001b[1;34m\u001b[0m\n\u001b[0;32m     15\u001b[0m \u001b[0mtime\u001b[0m\u001b[1;33m.\u001b[0m\u001b[0msleep\u001b[0m\u001b[1;33m(\u001b[0m\u001b[1;36m15\u001b[0m\u001b[1;33m)\u001b[0m\u001b[1;33m\u001b[0m\u001b[1;33m\u001b[0m\u001b[0m\n\u001b[0;32m     16\u001b[0m \u001b[1;32mfor\u001b[0m \u001b[0mi\u001b[0m \u001b[1;32min\u001b[0m \u001b[0mx\u001b[0m\u001b[1;33m:\u001b[0m\u001b[1;33m\u001b[0m\u001b[1;33m\u001b[0m\u001b[0m\n\u001b[1;32m---> 17\u001b[1;33m     \u001b[0mprint\u001b[0m\u001b[1;33m(\u001b[0m\u001b[0mi\u001b[0m\u001b[1;33m.\u001b[0m\u001b[0mtext\u001b[0m\u001b[1;33m)\u001b[0m\u001b[1;33m\u001b[0m\u001b[1;33m\u001b[0m\u001b[0m\n\u001b[0m\u001b[0;32m     18\u001b[0m \u001b[0mprint\u001b[0m\u001b[1;33m(\u001b[0m\u001b[1;34m\"helllo\"\u001b[0m\u001b[1;33m)\u001b[0m\u001b[1;33m\u001b[0m\u001b[1;33m\u001b[0m\u001b[0m\n",
      "\u001b[1;32m~\\anaconda3\\lib\\site-packages\\selenium\\webdriver\\remote\\webelement.py\u001b[0m in \u001b[0;36mtext\u001b[1;34m(self)\u001b[0m\n\u001b[0;32m     74\u001b[0m     \u001b[1;32mdef\u001b[0m \u001b[0mtext\u001b[0m\u001b[1;33m(\u001b[0m\u001b[0mself\u001b[0m\u001b[1;33m)\u001b[0m\u001b[1;33m:\u001b[0m\u001b[1;33m\u001b[0m\u001b[1;33m\u001b[0m\u001b[0m\n\u001b[0;32m     75\u001b[0m         \u001b[1;34m\"\"\"The text of the element.\"\"\"\u001b[0m\u001b[1;33m\u001b[0m\u001b[1;33m\u001b[0m\u001b[0m\n\u001b[1;32m---> 76\u001b[1;33m         \u001b[1;32mreturn\u001b[0m \u001b[0mself\u001b[0m\u001b[1;33m.\u001b[0m\u001b[0m_execute\u001b[0m\u001b[1;33m(\u001b[0m\u001b[0mCommand\u001b[0m\u001b[1;33m.\u001b[0m\u001b[0mGET_ELEMENT_TEXT\u001b[0m\u001b[1;33m)\u001b[0m\u001b[1;33m[\u001b[0m\u001b[1;34m'value'\u001b[0m\u001b[1;33m]\u001b[0m\u001b[1;33m\u001b[0m\u001b[1;33m\u001b[0m\u001b[0m\n\u001b[0m\u001b[0;32m     77\u001b[0m \u001b[1;33m\u001b[0m\u001b[0m\n\u001b[0;32m     78\u001b[0m     \u001b[1;32mdef\u001b[0m \u001b[0mclick\u001b[0m\u001b[1;33m(\u001b[0m\u001b[0mself\u001b[0m\u001b[1;33m)\u001b[0m\u001b[1;33m:\u001b[0m\u001b[1;33m\u001b[0m\u001b[1;33m\u001b[0m\u001b[0m\n",
      "\u001b[1;32m~\\anaconda3\\lib\\site-packages\\selenium\\webdriver\\remote\\webelement.py\u001b[0m in \u001b[0;36m_execute\u001b[1;34m(self, command, params)\u001b[0m\n\u001b[0;32m    631\u001b[0m             \u001b[0mparams\u001b[0m \u001b[1;33m=\u001b[0m \u001b[1;33m{\u001b[0m\u001b[1;33m}\u001b[0m\u001b[1;33m\u001b[0m\u001b[1;33m\u001b[0m\u001b[0m\n\u001b[0;32m    632\u001b[0m         \u001b[0mparams\u001b[0m\u001b[1;33m[\u001b[0m\u001b[1;34m'id'\u001b[0m\u001b[1;33m]\u001b[0m \u001b[1;33m=\u001b[0m \u001b[0mself\u001b[0m\u001b[1;33m.\u001b[0m\u001b[0m_id\u001b[0m\u001b[1;33m\u001b[0m\u001b[1;33m\u001b[0m\u001b[0m\n\u001b[1;32m--> 633\u001b[1;33m         \u001b[1;32mreturn\u001b[0m \u001b[0mself\u001b[0m\u001b[1;33m.\u001b[0m\u001b[0m_parent\u001b[0m\u001b[1;33m.\u001b[0m\u001b[0mexecute\u001b[0m\u001b[1;33m(\u001b[0m\u001b[0mcommand\u001b[0m\u001b[1;33m,\u001b[0m \u001b[0mparams\u001b[0m\u001b[1;33m)\u001b[0m\u001b[1;33m\u001b[0m\u001b[1;33m\u001b[0m\u001b[0m\n\u001b[0m\u001b[0;32m    634\u001b[0m \u001b[1;33m\u001b[0m\u001b[0m\n\u001b[0;32m    635\u001b[0m     \u001b[1;32mdef\u001b[0m \u001b[0mfind_element\u001b[0m\u001b[1;33m(\u001b[0m\u001b[0mself\u001b[0m\u001b[1;33m,\u001b[0m \u001b[0mby\u001b[0m\u001b[1;33m=\u001b[0m\u001b[0mBy\u001b[0m\u001b[1;33m.\u001b[0m\u001b[0mID\u001b[0m\u001b[1;33m,\u001b[0m \u001b[0mvalue\u001b[0m\u001b[1;33m=\u001b[0m\u001b[1;32mNone\u001b[0m\u001b[1;33m)\u001b[0m\u001b[1;33m:\u001b[0m\u001b[1;33m\u001b[0m\u001b[1;33m\u001b[0m\u001b[0m\n",
      "\u001b[1;32m~\\anaconda3\\lib\\site-packages\\selenium\\webdriver\\remote\\webdriver.py\u001b[0m in \u001b[0;36mexecute\u001b[1;34m(self, driver_command, params)\u001b[0m\n\u001b[0;32m    319\u001b[0m         \u001b[0mresponse\u001b[0m \u001b[1;33m=\u001b[0m \u001b[0mself\u001b[0m\u001b[1;33m.\u001b[0m\u001b[0mcommand_executor\u001b[0m\u001b[1;33m.\u001b[0m\u001b[0mexecute\u001b[0m\u001b[1;33m(\u001b[0m\u001b[0mdriver_command\u001b[0m\u001b[1;33m,\u001b[0m \u001b[0mparams\u001b[0m\u001b[1;33m)\u001b[0m\u001b[1;33m\u001b[0m\u001b[1;33m\u001b[0m\u001b[0m\n\u001b[0;32m    320\u001b[0m         \u001b[1;32mif\u001b[0m \u001b[0mresponse\u001b[0m\u001b[1;33m:\u001b[0m\u001b[1;33m\u001b[0m\u001b[1;33m\u001b[0m\u001b[0m\n\u001b[1;32m--> 321\u001b[1;33m             \u001b[0mself\u001b[0m\u001b[1;33m.\u001b[0m\u001b[0merror_handler\u001b[0m\u001b[1;33m.\u001b[0m\u001b[0mcheck_response\u001b[0m\u001b[1;33m(\u001b[0m\u001b[0mresponse\u001b[0m\u001b[1;33m)\u001b[0m\u001b[1;33m\u001b[0m\u001b[1;33m\u001b[0m\u001b[0m\n\u001b[0m\u001b[0;32m    322\u001b[0m             response['value'] = self._unwrap_value(\n\u001b[0;32m    323\u001b[0m                 response.get('value', None))\n",
      "\u001b[1;32m~\\anaconda3\\lib\\site-packages\\selenium\\webdriver\\remote\\errorhandler.py\u001b[0m in \u001b[0;36mcheck_response\u001b[1;34m(self, response)\u001b[0m\n\u001b[0;32m    240\u001b[0m                 \u001b[0malert_text\u001b[0m \u001b[1;33m=\u001b[0m \u001b[0mvalue\u001b[0m\u001b[1;33m[\u001b[0m\u001b[1;34m'alert'\u001b[0m\u001b[1;33m]\u001b[0m\u001b[1;33m.\u001b[0m\u001b[0mget\u001b[0m\u001b[1;33m(\u001b[0m\u001b[1;34m'text'\u001b[0m\u001b[1;33m)\u001b[0m\u001b[1;33m\u001b[0m\u001b[1;33m\u001b[0m\u001b[0m\n\u001b[0;32m    241\u001b[0m             \u001b[1;32mraise\u001b[0m \u001b[0mexception_class\u001b[0m\u001b[1;33m(\u001b[0m\u001b[0mmessage\u001b[0m\u001b[1;33m,\u001b[0m \u001b[0mscreen\u001b[0m\u001b[1;33m,\u001b[0m \u001b[0mstacktrace\u001b[0m\u001b[1;33m,\u001b[0m \u001b[0malert_text\u001b[0m\u001b[1;33m)\u001b[0m\u001b[1;33m\u001b[0m\u001b[1;33m\u001b[0m\u001b[0m\n\u001b[1;32m--> 242\u001b[1;33m         \u001b[1;32mraise\u001b[0m \u001b[0mexception_class\u001b[0m\u001b[1;33m(\u001b[0m\u001b[0mmessage\u001b[0m\u001b[1;33m,\u001b[0m \u001b[0mscreen\u001b[0m\u001b[1;33m,\u001b[0m \u001b[0mstacktrace\u001b[0m\u001b[1;33m)\u001b[0m\u001b[1;33m\u001b[0m\u001b[1;33m\u001b[0m\u001b[0m\n\u001b[0m\u001b[0;32m    243\u001b[0m \u001b[1;33m\u001b[0m\u001b[0m\n\u001b[0;32m    244\u001b[0m     \u001b[1;32mdef\u001b[0m \u001b[0m_value_or_default\u001b[0m\u001b[1;33m(\u001b[0m\u001b[0mself\u001b[0m\u001b[1;33m,\u001b[0m \u001b[0mobj\u001b[0m\u001b[1;33m,\u001b[0m \u001b[0mkey\u001b[0m\u001b[1;33m,\u001b[0m \u001b[0mdefault\u001b[0m\u001b[1;33m)\u001b[0m\u001b[1;33m:\u001b[0m\u001b[1;33m\u001b[0m\u001b[1;33m\u001b[0m\u001b[0m\n",
      "\u001b[1;31mStaleElementReferenceException\u001b[0m: Message: stale element reference: element is not attached to the page document\n  (Session info: chrome=90.0.4430.85)\n"
     ]
    }
   ],
   "source": [
    "import selenium\n",
    "from selenium import webdriver\n",
    "import datetime\n",
    "import time\n",
    "from selenium.webdriver.common.keys import Keys\n",
    "import pyautogui\n",
    "bot = webdriver.Chrome(executable_path=\"chromedriver.exe\")\n",
    "\n",
    "bot.get('https://web.whatsapp.com/')\n",
    "time.sleep(15)\n",
    "x=bot.find_elements_by_css_selector('[title]')\n",
    "time.sleep(15)\n",
    "for i in x:\n",
    "    print(i)  \n",
    "time.sleep(15)                        # all elements are selected which has title as attribete as <span----------class ---  title=\"s---\"  > name of title  </span>                                 this whole element is selected so according to me text inside it should be printed\n",
    "for i in x:\n",
    "    print(i.text)                   # we can do selections in all ways by css selectors like we do in css like [id] all elements with id attribute will be           div>p  many more  ol>li  or  .class>li etc\n",
    "print(\"helllo\")\n"
   ]
  },
  {
   "cell_type": "code",
   "execution_count": null,
   "metadata": {},
   "outputs": [],
   "source": []
  }
 ],
 "metadata": {
  "kernelspec": {
   "name": "python385jvsc74a57bd0399db30482bc942fd268b0ce4ee40233b8244ce79db68b3ef1ba072c9a2dca90",
   "display_name": "Python 3.8.5 64-bit (conda)"
  },
  "language_info": {
   "codemirror_mode": {
    "name": "ipython",
    "version": 3
   },
   "file_extension": ".py",
   "mimetype": "text/x-python",
   "name": "python",
   "nbconvert_exporter": "python",
   "pygments_lexer": "ipython3",
   "version": "3.8.5"
  }
 },
 "nbformat": 4,
 "nbformat_minor": 4
}